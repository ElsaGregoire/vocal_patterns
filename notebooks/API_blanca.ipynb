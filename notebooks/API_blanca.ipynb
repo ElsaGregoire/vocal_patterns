{
 "cells": [
  {
   "cell_type": "code",
   "execution_count": 1,
   "id": "d38ec860-8758-423b-9ee0-9973cce8b8c9",
   "metadata": {},
   "outputs": [],
   "source": [
    "import requests"
   ]
  },
  {
   "cell_type": "code",
   "execution_count": 2,
   "id": "8447f9c0-d11e-4fea-8967-3defe901e6c9",
   "metadata": {},
   "outputs": [
    {
     "data": {
      "text/plain": [
       "{'ok': False}"
      ]
     },
     "execution_count": 2,
     "metadata": {},
     "output_type": "execute_result"
    }
   ],
   "source": [
    "url_ = 'http://127.0.0.1:8000'\n",
    "response = requests.get(url_)\n",
    "response.json()"
   ]
  },
  {
   "cell_type": "code",
   "execution_count": 7,
   "id": "bfa141d7-49ce-4062-b21c-e034c6877698",
   "metadata": {},
   "outputs": [
    {
     "data": {
      "text/plain": [
       "{'You are singing:': 'Other type of sound'}"
      ]
     },
     "execution_count": 7,
     "metadata": {},
     "output_type": "execute_result"
    }
   ],
   "source": [
    "url_ = 'http://localhost:8000/predict'\n",
    "params = {\n",
    "    'type_': ['Arpegio', 'Scale', 'Other type of sound']\n",
    "}\n",
    "\n",
    "response = requests.get(url_, params=params)\n",
    "response.json()\n"
   ]
  },
  {
   "cell_type": "code",
   "execution_count": null,
   "id": "e35b7e09-5235-4d35-8d25-bacbfdc65a2b",
   "metadata": {},
   "outputs": [],
   "source": []
  },
  {
   "cell_type": "code",
   "execution_count": null,
   "id": "de54c8f4-cea8-4ff5-b79b-78867039eb5b",
   "metadata": {},
   "outputs": [],
   "source": []
  }
 ],
 "metadata": {
  "kernelspec": {
   "display_name": "Python 3 (ipykernel)",
   "language": "python",
   "name": "python3"
  },
  "language_info": {
   "codemirror_mode": {
    "name": "ipython",
    "version": 3
   },
   "file_extension": ".py",
   "mimetype": "text/x-python",
   "name": "python",
   "nbconvert_exporter": "python",
   "pygments_lexer": "ipython3",
   "version": "3.8.12"
  }
 },
 "nbformat": 4,
 "nbformat_minor": 5
}
