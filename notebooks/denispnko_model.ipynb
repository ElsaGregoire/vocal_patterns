{
 "cells": [
  {
   "cell_type": "code",
   "execution_count": 9,
   "id": "a5c4c33e-5494-4769-941f-e2a4a4a3120c",
   "metadata": {},
   "outputs": [
    {
     "name": "stdout",
     "output_type": "stream",
     "text": [
      "The autoreload extension is already loaded. To reload it, use:\n",
      "  %reload_ext autoreload\n"
     ]
    }
   ],
   "source": [
    "%load_ext autoreload\n",
    "%autoreload 2\n",
    "\n",
    "import os\n",
    "import sys\n",
    "import numpy as np\n",
    "import librosa\n",
    "import librosa.display\n",
    "import matplotlib.pyplot as plt\n",
    "\n",
    "import pandas as pd\n",
    "from sklearn.model_selection import train_test_split\n",
    "from sklearn.preprocessing import LabelEncoder\n",
    "\n",
    "sys.path.append('../')\n",
    "from vocal_patterns.interface import main\n"
   ]
  },
  {
   "cell_type": "code",
   "execution_count": 3,
   "id": "6e1b1e7c-048a-4ea6-80d9-725555f566d0",
   "metadata": {},
   "outputs": [
    {
     "data": {
      "text/html": [
       "<div>\n",
       "<style scoped>\n",
       "    .dataframe tbody tr th:only-of-type {\n",
       "        vertical-align: middle;\n",
       "    }\n",
       "\n",
       "    .dataframe tbody tr th {\n",
       "        vertical-align: top;\n",
       "    }\n",
       "\n",
       "    .dataframe thead th {\n",
       "        text-align: right;\n",
       "    }\n",
       "</style>\n",
       "<table border=\"1\" class=\"dataframe\">\n",
       "  <thead>\n",
       "    <tr style=\"text-align: right;\">\n",
       "      <th></th>\n",
       "      <th>path</th>\n",
       "      <th>exercise</th>\n",
       "      <th>technique</th>\n",
       "      <th>filename</th>\n",
       "    </tr>\n",
       "  </thead>\n",
       "  <tbody>\n",
       "    <tr>\n",
       "      <th>0</th>\n",
       "      <td>/Users/denis/code/ElsaGregoire/vocal_patterns/...</td>\n",
       "      <td>Other</td>\n",
       "      <td>vibrato</td>\n",
       "      <td>m6_row_vibrato.wav</td>\n",
       "    </tr>\n",
       "    <tr>\n",
       "      <th>1</th>\n",
       "      <td>/Users/denis/code/ElsaGregoire/vocal_patterns/...</td>\n",
       "      <td>Other</td>\n",
       "      <td>vibrato</td>\n",
       "      <td>m6_caro_vibrato.wav</td>\n",
       "    </tr>\n",
       "    <tr>\n",
       "      <th>2</th>\n",
       "      <td>/Users/denis/code/ElsaGregoire/vocal_patterns/...</td>\n",
       "      <td>Other</td>\n",
       "      <td>vibrato</td>\n",
       "      <td>m6_dona_vibrato.wav</td>\n",
       "    </tr>\n",
       "    <tr>\n",
       "      <th>3</th>\n",
       "      <td>/Users/denis/code/ElsaGregoire/vocal_patterns/...</td>\n",
       "      <td>Other</td>\n",
       "      <td>straight</td>\n",
       "      <td>m6_caro_straight.wav</td>\n",
       "    </tr>\n",
       "    <tr>\n",
       "      <th>4</th>\n",
       "      <td>/Users/denis/code/ElsaGregoire/vocal_patterns/...</td>\n",
       "      <td>Other</td>\n",
       "      <td>straight</td>\n",
       "      <td>m6_row_straight.wav</td>\n",
       "    </tr>\n",
       "  </tbody>\n",
       "</table>\n",
       "</div>"
      ],
      "text/plain": [
       "                                                path exercise technique  \\\n",
       "0  /Users/denis/code/ElsaGregoire/vocal_patterns/...    Other   vibrato   \n",
       "1  /Users/denis/code/ElsaGregoire/vocal_patterns/...    Other   vibrato   \n",
       "2  /Users/denis/code/ElsaGregoire/vocal_patterns/...    Other   vibrato   \n",
       "3  /Users/denis/code/ElsaGregoire/vocal_patterns/...    Other  straight   \n",
       "4  /Users/denis/code/ElsaGregoire/vocal_patterns/...    Other  straight   \n",
       "\n",
       "               filename  \n",
       "0    m6_row_vibrato.wav  \n",
       "1   m6_caro_vibrato.wav  \n",
       "2   m6_dona_vibrato.wav  \n",
       "3  m6_caro_straight.wav  \n",
       "4   m6_row_straight.wav  "
      ]
     },
     "execution_count": 3,
     "metadata": {},
     "output_type": "execute_result"
    }
   ],
   "source": [
    "## Get the data\n",
    "\n",
    "download_path = \"../vocal_patterns/data/dataset_tags.csv\"\n",
    "data = pd.read_csv(download_path)\n",
    "data.head()\n"
   ]
  },
  {
   "cell_type": "code",
   "execution_count": 4,
   "metadata": {},
   "outputs": [],
   "source": [
    "## Separate the data\n",
    "\n",
    "X = data.drop(columns=['exercise', \"technique\", \"filename\"])\n",
    "y = data[['exercise']]\n",
    "\n",
    "X_train, X_test, y_train, y_test = train_test_split(X, y, test_size=0.3)\n",
    "\n",
    "X_train_processed = preprocess_audio(X_train)\n",
    "X_train_reshaped = X_train_processed.reshape(len(X_train_processed), 128, 259, 1)\n",
    "\n",
    "X_test_processed = preprocess_audio(X_test)\n",
    "X_test_reshaped = X_test_processed.reshape(len(X_test_processed), 128, 259, 1)\n",
    "\n",
    "label_encoder = LabelEncoder()\n",
    "y_train_labels = label_encoder.fit_transform(np.ravel(y_train))\n",
    "y_train_cat = to_categorical(y_train_labels, num_classes=3)\n",
    "\n",
    "y_test_labels = label_encoder.transform(np.ravel(y_test))\n",
    "y_test_cat = to_categorical(y_test_labels, num_classes=3)\n"
   ]
  },
  {
   "cell_type": "markdown",
   "metadata": {},
   "source": []
  },
  {
   "cell_type": "code",
   "execution_count": 17,
   "metadata": {},
   "outputs": [
    {
     "name": "stdout",
     "output_type": "stream",
     "text": [
      "✅ Model initialized\n",
      "✅ Model compiled\n",
      "Epoch 1/20\n",
      "65/65 [==============================] - 3s 39ms/step - loss: 0.4351 - accuracy: 0.8279 - val_loss: 1.0336 - val_accuracy: 0.3954\n",
      "Epoch 2/20\n",
      "65/65 [==============================] - 2s 37ms/step - loss: 0.0500 - accuracy: 0.9822 - val_loss: 0.9491 - val_accuracy: 0.6392\n",
      "Epoch 3/20\n",
      "65/65 [==============================] - 2s 38ms/step - loss: 0.0205 - accuracy: 0.9928 - val_loss: 0.8969 - val_accuracy: 0.5374\n",
      "Epoch 4/20\n",
      "65/65 [==============================] - 2s 38ms/step - loss: 0.0055 - accuracy: 0.9990 - val_loss: 0.6729 - val_accuracy: 0.7006\n",
      "Epoch 5/20\n",
      "65/65 [==============================] - 2s 37ms/step - loss: 9.7845e-04 - accuracy: 1.0000 - val_loss: 0.4804 - val_accuracy: 0.7946\n",
      "Epoch 6/20\n",
      "65/65 [==============================] - 2s 38ms/step - loss: 5.1979e-04 - accuracy: 1.0000 - val_loss: 0.2982 - val_accuracy: 0.9040\n",
      "Epoch 7/20\n",
      "65/65 [==============================] - 2s 37ms/step - loss: 3.8005e-04 - accuracy: 1.0000 - val_loss: 0.2155 - val_accuracy: 0.9328\n",
      "Epoch 8/20\n",
      "65/65 [==============================] - 2s 37ms/step - loss: 3.0347e-04 - accuracy: 1.0000 - val_loss: 0.1947 - val_accuracy: 0.9424\n",
      "Epoch 9/20\n",
      "65/65 [==============================] - 2s 37ms/step - loss: 2.5370e-04 - accuracy: 1.0000 - val_loss: 0.2032 - val_accuracy: 0.9520\n",
      "Epoch 10/20\n",
      "65/65 [==============================] - ETA: 0s - loss: 2.0585e-04 - accuracy: 1.0000Restoring model weights from the end of the best epoch: 8.\n",
      "65/65 [==============================] - 2s 37ms/step - loss: 2.0585e-04 - accuracy: 1.0000 - val_loss: 0.2198 - val_accuracy: 0.9520\n",
      "Epoch 10: early stopping\n",
      "10/10 [==============================] - 0s 11ms/step - loss: 0.2050 - accuracy: 0.9481\n",
      "✅ Results saved locally\n",
      "✅ Model saved locally\n",
      "0.9480968713760376\n"
     ]
    }
   ],
   "source": [
    "model = main.train()\n"
   ]
  },
  {
   "cell_type": "code",
   "execution_count": 21,
   "metadata": {},
   "outputs": [
    {
     "name": "stdout",
     "output_type": "stream",
     "text": [
      "34/34 [==============================] - 0s 14ms/step - loss: 0.0507 - accuracy: 0.9862\n"
     ]
    },
    {
     "data": {
      "text/plain": [
       "[0.05068179965019226, 0.9861623644828796]"
      ]
     },
     "execution_count": 21,
     "metadata": {},
     "output_type": "execute_result"
    }
   ],
   "source": [
    "model.evaluate(X_test_reshaped, y_test_cat)\n"
   ]
  },
  {
   "cell_type": "code",
   "execution_count": 22,
   "metadata": {},
   "outputs": [
    {
     "name": "stdout",
     "output_type": "stream",
     "text": [
      "\u001b[34m\n",
      "Load latest model from local registry...\u001b[0m\n",
      "\u001b[34m\n",
      "Load latest model from disk...\u001b[0m\n",
      "✅ Model loaded from local disk\n",
      "34/34 [==============================] - 1s 14ms/step\n"
     ]
    }
   ],
   "source": [
    "y_pred = main.predict(X_test)\n"
   ]
  },
  {
   "cell_type": "code",
   "execution_count": 23,
   "metadata": {},
   "outputs": [
    {
     "data": {
      "text/plain": [
       "array([[3.4940960e-05, 2.8766951e-02, 9.7119808e-01],\n",
       "       [2.4407591e-04, 9.9933833e-01, 4.1758514e-04],\n",
       "       [9.9999869e-01, 1.3415499e-06, 3.5745536e-08],\n",
       "       ...,\n",
       "       [9.8739606e-01, 3.2558408e-05, 1.2571273e-02],\n",
       "       [9.9887496e-01, 1.1104856e-03, 1.4563908e-05],\n",
       "       [4.6700532e-09, 1.4721586e-03, 9.9852777e-01]], dtype=float32)"
      ]
     },
     "execution_count": 23,
     "metadata": {},
     "output_type": "execute_result"
    }
   ],
   "source": [
    "y_pred\n"
   ]
  },
  {
   "cell_type": "code",
   "execution_count": 24,
   "metadata": {},
   "outputs": [
    {
     "name": "stdout",
     "output_type": "stream",
     "text": [
      "Category Mapping:\n",
      "Other: 0\n",
      "arpeggios: 1\n",
      "scales: 2\n"
     ]
    }
   ],
   "source": [
    "category_mapping = dict(zip(label_encoder.classes_, label_encoder.transform(label_encoder.classes_)))\n",
    "\n",
    "# Display the mapping\n",
    "print(\"Category Mapping:\")\n",
    "for category, numerical_representation in category_mapping.items():\n",
    "    print(f\"{category}: {numerical_representation}\")\n"
   ]
  },
  {
   "cell_type": "code",
   "execution_count": 25,
   "metadata": {},
   "outputs": [
    {
     "name": "stdout",
     "output_type": "stream",
     "text": [
      "1/1 [==============================] - 0s 13ms/step\n"
     ]
    }
   ],
   "source": [
    "image_to_predict = np.expand_dims(X_test_reshaped[0], axis=0)\n",
    "predictions = model.predict(image_to_predict)\n"
   ]
  },
  {
   "cell_type": "code",
   "execution_count": 26,
   "metadata": {},
   "outputs": [
    {
     "data": {
      "text/plain": [
       "2"
      ]
     },
     "execution_count": 26,
     "metadata": {},
     "output_type": "execute_result"
    }
   ],
   "source": [
    "predicted_indices = np.argmax(predictions, axis=1)\n",
    "predicted_indices[0]\n"
   ]
  },
  {
   "cell_type": "code",
   "execution_count": 27,
   "metadata": {},
   "outputs": [
    {
     "data": {
      "text/plain": [
       "path         /Users/denis/code/ElsaGregoire/vocal_patterns/...\n",
       "exercise                                                 Other\n",
       "technique                                              vibrato\n",
       "filename                                    m6_row_vibrato.wav\n",
       "Name: 0, dtype: object"
      ]
     },
     "execution_count": 27,
     "metadata": {},
     "output_type": "execute_result"
    }
   ],
   "source": [
    "data.iloc[0,:]\n"
   ]
  },
  {
   "cell_type": "code",
   "execution_count": 28,
   "metadata": {},
   "outputs": [
    {
     "data": {
      "text/html": [
       "<div>\n",
       "<style scoped>\n",
       "    .dataframe tbody tr th:only-of-type {\n",
       "        vertical-align: middle;\n",
       "    }\n",
       "\n",
       "    .dataframe tbody tr th {\n",
       "        vertical-align: top;\n",
       "    }\n",
       "\n",
       "    .dataframe thead th {\n",
       "        text-align: right;\n",
       "    }\n",
       "</style>\n",
       "<table border=\"1\" class=\"dataframe\">\n",
       "  <thead>\n",
       "    <tr style=\"text-align: right;\">\n",
       "      <th></th>\n",
       "      <th>path</th>\n",
       "      <th>exercise</th>\n",
       "      <th>technique</th>\n",
       "      <th>filename</th>\n",
       "    </tr>\n",
       "  </thead>\n",
       "  <tbody>\n",
       "    <tr>\n",
       "      <th>0</th>\n",
       "      <td>/Users/denis/code/ElsaGregoire/vocal_patterns/...</td>\n",
       "      <td>Other</td>\n",
       "      <td>vibrato</td>\n",
       "      <td>m6_row_vibrato.wav</td>\n",
       "    </tr>\n",
       "    <tr>\n",
       "      <th>1</th>\n",
       "      <td>/Users/denis/code/ElsaGregoire/vocal_patterns/...</td>\n",
       "      <td>Other</td>\n",
       "      <td>vibrato</td>\n",
       "      <td>m6_caro_vibrato.wav</td>\n",
       "    </tr>\n",
       "    <tr>\n",
       "      <th>2</th>\n",
       "      <td>/Users/denis/code/ElsaGregoire/vocal_patterns/...</td>\n",
       "      <td>Other</td>\n",
       "      <td>vibrato</td>\n",
       "      <td>m6_dona_vibrato.wav</td>\n",
       "    </tr>\n",
       "    <tr>\n",
       "      <th>3</th>\n",
       "      <td>/Users/denis/code/ElsaGregoire/vocal_patterns/...</td>\n",
       "      <td>Other</td>\n",
       "      <td>straight</td>\n",
       "      <td>m6_caro_straight.wav</td>\n",
       "    </tr>\n",
       "    <tr>\n",
       "      <th>4</th>\n",
       "      <td>/Users/denis/code/ElsaGregoire/vocal_patterns/...</td>\n",
       "      <td>Other</td>\n",
       "      <td>straight</td>\n",
       "      <td>m6_row_straight.wav</td>\n",
       "    </tr>\n",
       "    <tr>\n",
       "      <th>...</th>\n",
       "      <td>...</td>\n",
       "      <td>...</td>\n",
       "      <td>...</td>\n",
       "      <td>...</td>\n",
       "    </tr>\n",
       "    <tr>\n",
       "      <th>3608</th>\n",
       "      <td>/Users/denis/code/ElsaGregoire/vocal_patterns/...</td>\n",
       "      <td>arpeggios</td>\n",
       "      <td>fast_forte</td>\n",
       "      <td>m6_arpeggios_c_fast_forte_i.wav</td>\n",
       "    </tr>\n",
       "    <tr>\n",
       "      <th>3609</th>\n",
       "      <td>/Users/denis/code/ElsaGregoire/vocal_patterns/...</td>\n",
       "      <td>arpeggios</td>\n",
       "      <td>fast_forte</td>\n",
       "      <td>m6_arpeggios_c_fast_forte_e.wav</td>\n",
       "    </tr>\n",
       "    <tr>\n",
       "      <th>3610</th>\n",
       "      <td>/Users/denis/code/ElsaGregoire/vocal_patterns/...</td>\n",
       "      <td>arpeggios</td>\n",
       "      <td>fast_forte</td>\n",
       "      <td>m6_arpeggios_c_fast_forte_u.wav</td>\n",
       "    </tr>\n",
       "    <tr>\n",
       "      <th>3611</th>\n",
       "      <td>/Users/denis/code/ElsaGregoire/vocal_patterns/...</td>\n",
       "      <td>arpeggios</td>\n",
       "      <td>fast_forte</td>\n",
       "      <td>m6_arpeggios_f_fast_forte_u.wav</td>\n",
       "    </tr>\n",
       "    <tr>\n",
       "      <th>3612</th>\n",
       "      <td>/Users/denis/code/ElsaGregoire/vocal_patterns/...</td>\n",
       "      <td>arpeggios</td>\n",
       "      <td>fast_forte</td>\n",
       "      <td>m6_arpeggios_f_fast_forte_e.wav</td>\n",
       "    </tr>\n",
       "  </tbody>\n",
       "</table>\n",
       "<p>3613 rows × 4 columns</p>\n",
       "</div>"
      ],
      "text/plain": [
       "                                                   path   exercise  \\\n",
       "0     /Users/denis/code/ElsaGregoire/vocal_patterns/...      Other   \n",
       "1     /Users/denis/code/ElsaGregoire/vocal_patterns/...      Other   \n",
       "2     /Users/denis/code/ElsaGregoire/vocal_patterns/...      Other   \n",
       "3     /Users/denis/code/ElsaGregoire/vocal_patterns/...      Other   \n",
       "4     /Users/denis/code/ElsaGregoire/vocal_patterns/...      Other   \n",
       "...                                                 ...        ...   \n",
       "3608  /Users/denis/code/ElsaGregoire/vocal_patterns/...  arpeggios   \n",
       "3609  /Users/denis/code/ElsaGregoire/vocal_patterns/...  arpeggios   \n",
       "3610  /Users/denis/code/ElsaGregoire/vocal_patterns/...  arpeggios   \n",
       "3611  /Users/denis/code/ElsaGregoire/vocal_patterns/...  arpeggios   \n",
       "3612  /Users/denis/code/ElsaGregoire/vocal_patterns/...  arpeggios   \n",
       "\n",
       "       technique                         filename  \n",
       "0        vibrato               m6_row_vibrato.wav  \n",
       "1        vibrato              m6_caro_vibrato.wav  \n",
       "2        vibrato              m6_dona_vibrato.wav  \n",
       "3       straight             m6_caro_straight.wav  \n",
       "4       straight              m6_row_straight.wav  \n",
       "...          ...                              ...  \n",
       "3608  fast_forte  m6_arpeggios_c_fast_forte_i.wav  \n",
       "3609  fast_forte  m6_arpeggios_c_fast_forte_e.wav  \n",
       "3610  fast_forte  m6_arpeggios_c_fast_forte_u.wav  \n",
       "3611  fast_forte  m6_arpeggios_f_fast_forte_u.wav  \n",
       "3612  fast_forte  m6_arpeggios_f_fast_forte_e.wav  \n",
       "\n",
       "[3613 rows x 4 columns]"
      ]
     },
     "execution_count": 28,
     "metadata": {},
     "output_type": "execute_result"
    }
   ],
   "source": [
    "data\n"
   ]
  },
  {
   "cell_type": "code",
   "execution_count": null,
   "metadata": {},
   "outputs": [],
   "source": []
  }
 ],
 "metadata": {
  "kernelspec": {
   "display_name": "Python 3 (ipykernel)",
   "language": "python",
   "name": "python3"
  },
  "language_info": {
   "codemirror_mode": {
    "name": "ipython",
    "version": 3
   },
   "file_extension": ".py",
   "mimetype": "text/x-python",
   "name": "python",
   "nbconvert_exporter": "python",
   "pygments_lexer": "ipython3",
   "version": "3.10.6"
  }
 },
 "nbformat": 4,
 "nbformat_minor": 5
}
