{
 "cells": [
  {
   "cell_type": "code",
   "execution_count": 27,
   "metadata": {},
   "outputs": [
    {
     "data": {
      "text/html": [
       "<div>\n",
       "<style scoped>\n",
       "    .dataframe tbody tr th:only-of-type {\n",
       "        vertical-align: middle;\n",
       "    }\n",
       "\n",
       "    .dataframe tbody tr th {\n",
       "        vertical-align: top;\n",
       "    }\n",
       "\n",
       "    .dataframe thead th {\n",
       "        text-align: right;\n",
       "    }\n",
       "</style>\n",
       "<table border=\"1\" class=\"dataframe\">\n",
       "  <thead>\n",
       "    <tr style=\"text-align: right;\">\n",
       "      <th></th>\n",
       "      <th>spectrogram</th>\n",
       "      <th>exercise</th>\n",
       "      <th>technique</th>\n",
       "    </tr>\n",
       "  </thead>\n",
       "  <tbody>\n",
       "    <tr>\n",
       "      <th>0</th>\n",
       "      <td>[[[0.23180476], [0.2892316], [0.3014535], [0.2...</td>\n",
       "      <td>arpeggios</td>\n",
       "      <td>slow_piano</td>\n",
       "    </tr>\n",
       "    <tr>\n",
       "      <th>1</th>\n",
       "      <td>[[[0.2858866], [0.26965076], [0.22097206], [0....</td>\n",
       "      <td>arpeggios</td>\n",
       "      <td>slow_piano</td>\n",
       "    </tr>\n",
       "    <tr>\n",
       "      <th>2</th>\n",
       "      <td>[[[0.40495643], [0.36227638], [0.28256026], [0...</td>\n",
       "      <td>arpeggios</td>\n",
       "      <td>slow_piano</td>\n",
       "    </tr>\n",
       "    <tr>\n",
       "      <th>3</th>\n",
       "      <td>[[[0.43902367], [0.38572454], [0.3691454], [0....</td>\n",
       "      <td>arpeggios</td>\n",
       "      <td>slow_piano</td>\n",
       "    </tr>\n",
       "    <tr>\n",
       "      <th>4</th>\n",
       "      <td>[[[0.4204014], [0.3536261], [0.27059212], [0.2...</td>\n",
       "      <td>arpeggios</td>\n",
       "      <td>slow_piano</td>\n",
       "    </tr>\n",
       "  </tbody>\n",
       "</table>\n",
       "</div>"
      ],
      "text/plain": [
       "                                         spectrogram   exercise   technique\n",
       "0  [[[0.23180476], [0.2892316], [0.3014535], [0.2...  arpeggios  slow_piano\n",
       "1  [[[0.2858866], [0.26965076], [0.22097206], [0....  arpeggios  slow_piano\n",
       "2  [[[0.40495643], [0.36227638], [0.28256026], [0...  arpeggios  slow_piano\n",
       "3  [[[0.43902367], [0.38572454], [0.3691454], [0....  arpeggios  slow_piano\n",
       "4  [[[0.4204014], [0.3536261], [0.27059212], [0.2...  arpeggios  slow_piano"
      ]
     },
     "execution_count": 27,
     "metadata": {},
     "output_type": "execute_result"
    }
   ],
   "source": [
    "import pandas as pd\n",
    "import sys\n",
    "sys.path.append('../')\n",
    "\n",
    "from vocal_patterns.ml_logic.data import get_data\n",
    "from vocal_patterns.ml_logic.preprocessor import preprocess_df\n",
    "\n",
    "data = get_data()[:200]\n",
    "\n",
    "try:\n",
    "    data = pd.read_pickle(\"preproc.pkl\")\n",
    "    print(\"Loaded cached preprocessing data\")\n",
    "except FileNotFoundError:\n",
    "    print(\"No cached preprocessing data found, preprocessing now...\")\n",
    "    data = preprocess_df(data)\n",
    "    data.to_pickle(\"preproc.pkl\")\n",
    "    \n",
    "data.head() "
   ]
  },
  {
   "cell_type": "code",
   "execution_count": 41,
   "metadata": {},
   "outputs": [
    {
     "data": {
      "text/plain": [
       "1001    [[[0.41369948], [0.36363083], [0.29099894], [0...\n",
       "745     [[[0.47477317], [0.39698964], [0.24208799], [0...\n",
       "777     [[[0.4138151], [0.34896097], [0.24125929], [0....\n",
       "447     [[[0.5035065], [0.5688432], [0.6408163], [0.65...\n",
       "127     [[[0.32286358], [0.29786015], [0.28875303], [0...\n",
       "                              ...                        \n",
       "1074    [[[0.609025], [0.5539976], [0.5301168], [0.552...\n",
       "379     [[[0.28844133], [0.21087904], [0.14490166], [0...\n",
       "49      [[[0.34664744], [0.33066136], [0.3076128], [0....\n",
       "325     [[[0.49187642], [0.4349141], [0.33333015], [0....\n",
       "62      [[[0.16229677], [0.2222619], [0.1899518], [0.2...\n",
       "Name: spectrogram, Length: 758, dtype: object"
      ]
     },
     "execution_count": 41,
     "metadata": {},
     "output_type": "execute_result"
    }
   ],
   "source": [
    "from sklearn.model_selection import train_test_split\n",
    "\n",
    "X = data[\"spectrogram\"]\n",
    "\n",
    "\n",
    "X_train, X_test = train_test_split(X, test_size=0.3)\n",
    "X_train\n"
   ]
  },
  {
   "cell_type": "code",
   "execution_count": 47,
   "metadata": {},
   "outputs": [
    {
     "data": {
      "text/plain": [
       "(758, 128, 173, 1)"
      ]
     },
     "execution_count": 47,
     "metadata": {},
     "output_type": "execute_result"
    }
   ],
   "source": [
    "import numpy as np\n",
    "X_train_array = np.stack(X_train, axis=0)\n",
    "X_train_array.shape\n"
   ]
  },
  {
   "cell_type": "code",
   "execution_count": null,
   "metadata": {},
   "outputs": [
    {
     "data": {
      "text/plain": [
       "1327.2931413650513"
      ]
     },
     "execution_count": 124,
     "metadata": {},
     "output_type": "execute_result"
    }
   ],
   "source": [
    "# df_with_slices[\"exercise\"].value_counts()\n",
    "df_with_slices.memory_usage(deep=True).sum() / (1024**2)"
   ]
  },
  {
   "cell_type": "code",
   "execution_count": null,
   "metadata": {},
   "outputs": [],
   "source": [
    "X = data.drop(columns=['exercise', \"technique\", \"filename\"])\n",
    "y = data[['exercise']]\n",
    "\n",
    "X_train, X_test, y_train, y_test = train_test_split(X, y, test_size=0.3)\n"
   ]
  },
  {
   "cell_type": "code",
   "execution_count": null,
   "metadata": {},
   "outputs": [
    {
     "data": {
      "text/html": [
       "<div>\n",
       "<style scoped>\n",
       "    .dataframe tbody tr th:only-of-type {\n",
       "        vertical-align: middle;\n",
       "    }\n",
       "\n",
       "    .dataframe tbody tr th {\n",
       "        vertical-align: top;\n",
       "    }\n",
       "\n",
       "    .dataframe thead th {\n",
       "        text-align: right;\n",
       "    }\n",
       "</style>\n",
       "<table border=\"1\" class=\"dataframe\">\n",
       "  <thead>\n",
       "    <tr style=\"text-align: right;\">\n",
       "      <th></th>\n",
       "      <th>exercise</th>\n",
       "    </tr>\n",
       "  </thead>\n",
       "  <tbody>\n",
       "    <tr>\n",
       "      <th>1643</th>\n",
       "      <td>arpeggios</td>\n",
       "    </tr>\n",
       "    <tr>\n",
       "      <th>382</th>\n",
       "      <td>arpeggios</td>\n",
       "    </tr>\n",
       "    <tr>\n",
       "      <th>2553</th>\n",
       "      <td>other</td>\n",
       "    </tr>\n",
       "    <tr>\n",
       "      <th>2213</th>\n",
       "      <td>arpeggios</td>\n",
       "    </tr>\n",
       "    <tr>\n",
       "      <th>661</th>\n",
       "      <td>arpeggios</td>\n",
       "    </tr>\n",
       "    <tr>\n",
       "      <th>...</th>\n",
       "      <td>...</td>\n",
       "    </tr>\n",
       "    <tr>\n",
       "      <th>2511</th>\n",
       "      <td>arpeggios</td>\n",
       "    </tr>\n",
       "    <tr>\n",
       "      <th>872</th>\n",
       "      <td>scales</td>\n",
       "    </tr>\n",
       "    <tr>\n",
       "      <th>1386</th>\n",
       "      <td>scales</td>\n",
       "    </tr>\n",
       "    <tr>\n",
       "      <th>1924</th>\n",
       "      <td>arpeggios</td>\n",
       "    </tr>\n",
       "    <tr>\n",
       "      <th>1407</th>\n",
       "      <td>arpeggios</td>\n",
       "    </tr>\n",
       "  </tbody>\n",
       "</table>\n",
       "<p>867 rows × 1 columns</p>\n",
       "</div>"
      ],
      "text/plain": [
       "       exercise\n",
       "1643  arpeggios\n",
       "382   arpeggios\n",
       "2553      other\n",
       "2213  arpeggios\n",
       "661   arpeggios\n",
       "...         ...\n",
       "2511  arpeggios\n",
       "872      scales\n",
       "1386     scales\n",
       "1924  arpeggios\n",
       "1407  arpeggios\n",
       "\n",
       "[867 rows x 1 columns]"
      ]
     },
     "execution_count": 88,
     "metadata": {},
     "output_type": "execute_result"
    }
   ],
   "source": [
    "y_test[:2677]"
   ]
  },
  {
   "cell_type": "code",
   "execution_count": null,
   "metadata": {},
   "outputs": [],
   "source": [
    "import sys\n",
    "sys.path.append('../')\n",
    "\n",
    "from vocal_patterns.interface.main import predict\n",
    "\n"
   ]
  },
  {
   "cell_type": "code",
   "execution_count": null,
   "metadata": {},
   "outputs": [
    {
     "data": {
      "text/plain": [
       "2001    /Users/jake/code/jchaselubitz/vocal_patterns/d...\n",
       "2597    /Users/jake/code/jchaselubitz/vocal_patterns/d...\n",
       "969     /Users/jake/code/jchaselubitz/vocal_patterns/d...\n",
       "1929    /Users/jake/code/jchaselubitz/vocal_patterns/d...\n",
       "1280    /Users/jake/code/jchaselubitz/vocal_patterns/d...\n",
       "Name: path, dtype: object"
      ]
     },
     "execution_count": 83,
     "metadata": {},
     "output_type": "execute_result"
    }
   ],
   "source": [
    "X_test[\"path\"].head()"
   ]
  },
  {
   "cell_type": "code",
   "execution_count": null,
   "metadata": {},
   "outputs": [],
   "source": [
    "# X_test[\"path\"][574]\n",
    "import librosa\n",
    "\n",
    "waveform, sr = librosa.load(X_test[\"path\"][382], sr=22050)\n",
    "X = waveform\n"
   ]
  },
  {
   "cell_type": "code",
   "execution_count": null,
   "metadata": {},
   "outputs": [
    {
     "name": "stderr",
     "output_type": "stream",
     "text": [
      "WARNING:absl:At this time, the v2.11+ optimizer `tf.keras.optimizers.Adam` runs slowly on M1/M2 Macs, please use the legacy Keras optimizer instead, located at `tf.keras.optimizers.legacy.Adam`.\n"
     ]
    },
    {
     "name": "stdout",
     "output_type": "stream",
     "text": [
      "\u001b[34m\n",
      "Load latest model from local registry...\u001b[0m\n",
      "\u001b[34m\n",
      "Load latest model from disk...\u001b[0m\n",
      "✅ Model loaded from local disk\n",
      "1/1 [==============================] - 0s 102ms/step\n"
     ]
    },
    {
     "data": {
      "text/plain": [
       "1"
      ]
     },
     "execution_count": 69,
     "metadata": {},
     "output_type": "execute_result"
    }
   ],
   "source": [
    "import numpy as np\n",
    "predict(X)\n",
    "# predicted_indices = np.argmax(predict(X), axis=1)\n",
    "# predicted_indices"
   ]
  }
 ],
 "metadata": {
  "kernelspec": {
   "display_name": "vocal_patterns",
   "language": "python",
   "name": "python3"
  },
  "language_info": {
   "codemirror_mode": {
    "name": "ipython",
    "version": 3
   },
   "file_extension": ".py",
   "mimetype": "text/x-python",
   "name": "python",
   "nbconvert_exporter": "python",
   "pygments_lexer": "ipython3",
   "version": "3.10.6"
  }
 },
 "nbformat": 4,
 "nbformat_minor": 2
}
