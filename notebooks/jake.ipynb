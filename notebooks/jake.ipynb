{
 "cells": [
  {
   "cell_type": "code",
   "execution_count": 51,
   "metadata": {},
   "outputs": [
    {
     "data": {
      "text/html": [
       "<div>\n",
       "<style scoped>\n",
       "    .dataframe tbody tr th:only-of-type {\n",
       "        vertical-align: middle;\n",
       "    }\n",
       "\n",
       "    .dataframe tbody tr th {\n",
       "        vertical-align: top;\n",
       "    }\n",
       "\n",
       "    .dataframe thead th {\n",
       "        text-align: right;\n",
       "    }\n",
       "</style>\n",
       "<table border=\"1\" class=\"dataframe\">\n",
       "  <thead>\n",
       "    <tr style=\"text-align: right;\">\n",
       "      <th></th>\n",
       "      <th>path</th>\n",
       "      <th>exercise</th>\n",
       "      <th>technique</th>\n",
       "      <th>filename</th>\n",
       "    </tr>\n",
       "  </thead>\n",
       "  <tbody>\n",
       "    <tr>\n",
       "      <th>0</th>\n",
       "      <td>/Users/jake/code/jchaselubitz/vocal_patterns/v...</td>\n",
       "      <td>Other</td>\n",
       "      <td>vibrato</td>\n",
       "      <td>m6_row_vibrato.wav</td>\n",
       "    </tr>\n",
       "    <tr>\n",
       "      <th>1</th>\n",
       "      <td>/Users/jake/code/jchaselubitz/vocal_patterns/v...</td>\n",
       "      <td>Other</td>\n",
       "      <td>vibrato</td>\n",
       "      <td>m6_caro_vibrato.wav</td>\n",
       "    </tr>\n",
       "    <tr>\n",
       "      <th>2</th>\n",
       "      <td>/Users/jake/code/jchaselubitz/vocal_patterns/v...</td>\n",
       "      <td>Other</td>\n",
       "      <td>vibrato</td>\n",
       "      <td>m6_dona_vibrato.wav</td>\n",
       "    </tr>\n",
       "    <tr>\n",
       "      <th>3</th>\n",
       "      <td>/Users/jake/code/jchaselubitz/vocal_patterns/v...</td>\n",
       "      <td>Other</td>\n",
       "      <td>straight</td>\n",
       "      <td>m6_caro_straight.wav</td>\n",
       "    </tr>\n",
       "    <tr>\n",
       "      <th>4</th>\n",
       "      <td>/Users/jake/code/jchaselubitz/vocal_patterns/v...</td>\n",
       "      <td>Other</td>\n",
       "      <td>straight</td>\n",
       "      <td>m6_row_straight.wav</td>\n",
       "    </tr>\n",
       "  </tbody>\n",
       "</table>\n",
       "</div>"
      ],
      "text/plain": [
       "                                                path  ...              filename\n",
       "0  /Users/jake/code/jchaselubitz/vocal_patterns/v...  ...    m6_row_vibrato.wav\n",
       "1  /Users/jake/code/jchaselubitz/vocal_patterns/v...  ...   m6_caro_vibrato.wav\n",
       "2  /Users/jake/code/jchaselubitz/vocal_patterns/v...  ...   m6_dona_vibrato.wav\n",
       "3  /Users/jake/code/jchaselubitz/vocal_patterns/v...  ...  m6_caro_straight.wav\n",
       "4  /Users/jake/code/jchaselubitz/vocal_patterns/v...  ...   m6_row_straight.wav\n",
       "\n",
       "[5 rows x 4 columns]"
      ]
     },
     "execution_count": 51,
     "metadata": {},
     "output_type": "execute_result"
    }
   ],
   "source": [
    "import pandas as pd\n",
    "from sklearn.model_selection import train_test_split\n",
    "\n",
    "download_path = \"../vocal_patterns/data/dataset_tags.csv\"\n",
    "data = pd.read_csv(download_path)\n",
    "data.head()"
   ]
  },
  {
   "cell_type": "code",
   "execution_count": 52,
   "metadata": {},
   "outputs": [],
   "source": [
    "X = data.drop(columns=['exercise', \"technique\", \"filename\"])\n",
    "y = data[['exercise']]\n",
    "\n",
    "X_train, X_test, y_train, y_test = train_test_split(X, y, test_size=0.3)\n"
   ]
  },
  {
   "cell_type": "code",
   "execution_count": 65,
   "metadata": {},
   "outputs": [
    {
     "data": {
      "text/html": [
       "<div>\n",
       "<style scoped>\n",
       "    .dataframe tbody tr th:only-of-type {\n",
       "        vertical-align: middle;\n",
       "    }\n",
       "\n",
       "    .dataframe tbody tr th {\n",
       "        vertical-align: top;\n",
       "    }\n",
       "\n",
       "    .dataframe thead th {\n",
       "        text-align: right;\n",
       "    }\n",
       "</style>\n",
       "<table border=\"1\" class=\"dataframe\">\n",
       "  <thead>\n",
       "    <tr style=\"text-align: right;\">\n",
       "      <th></th>\n",
       "      <th>exercise</th>\n",
       "    </tr>\n",
       "  </thead>\n",
       "  <tbody>\n",
       "    <tr>\n",
       "      <th>2677</th>\n",
       "      <td>arpeggios</td>\n",
       "    </tr>\n",
       "    <tr>\n",
       "      <th>3282</th>\n",
       "      <td>arpeggios</td>\n",
       "    </tr>\n",
       "    <tr>\n",
       "      <th>1555</th>\n",
       "      <td>scales</td>\n",
       "    </tr>\n",
       "    <tr>\n",
       "      <th>1414</th>\n",
       "      <td>scales</td>\n",
       "    </tr>\n",
       "    <tr>\n",
       "      <th>3419</th>\n",
       "      <td>arpeggios</td>\n",
       "    </tr>\n",
       "    <tr>\n",
       "      <th>...</th>\n",
       "      <td>...</td>\n",
       "    </tr>\n",
       "    <tr>\n",
       "      <th>2478</th>\n",
       "      <td>arpeggios</td>\n",
       "    </tr>\n",
       "    <tr>\n",
       "      <th>1279</th>\n",
       "      <td>scales</td>\n",
       "    </tr>\n",
       "    <tr>\n",
       "      <th>281</th>\n",
       "      <td>Other</td>\n",
       "    </tr>\n",
       "    <tr>\n",
       "      <th>1387</th>\n",
       "      <td>scales</td>\n",
       "    </tr>\n",
       "    <tr>\n",
       "      <th>2626</th>\n",
       "      <td>arpeggios</td>\n",
       "    </tr>\n",
       "  </tbody>\n",
       "</table>\n",
       "<p>1084 rows × 1 columns</p>\n",
       "</div>"
      ],
      "text/plain": [
       "       exercise\n",
       "2677  arpeggios\n",
       "3282  arpeggios\n",
       "1555     scales\n",
       "1414     scales\n",
       "3419  arpeggios\n",
       "...         ...\n",
       "2478  arpeggios\n",
       "1279     scales\n",
       "281       Other\n",
       "1387     scales\n",
       "2626  arpeggios\n",
       "\n",
       "[1084 rows x 1 columns]"
      ]
     },
     "execution_count": 65,
     "metadata": {},
     "output_type": "execute_result"
    }
   ],
   "source": [
    "y_test[:2677]"
   ]
  },
  {
   "cell_type": "code",
   "execution_count": 66,
   "metadata": {},
   "outputs": [],
   "source": [
    "import sys\n",
    "sys.path.append('../')\n",
    "\n",
    "from vocal_patterns.interface.main import predict\n",
    "\n"
   ]
  },
  {
   "cell_type": "code",
   "execution_count": 67,
   "metadata": {},
   "outputs": [
    {
     "data": {
      "text/plain": [
       "2677    /Users/jake/code/jchaselubitz/vocal_patterns/v...\n",
       "3282    /Users/jake/code/jchaselubitz/vocal_patterns/v...\n",
       "1555    /Users/jake/code/jchaselubitz/vocal_patterns/v...\n",
       "1414    /Users/jake/code/jchaselubitz/vocal_patterns/v...\n",
       "3419    /Users/jake/code/jchaselubitz/vocal_patterns/v...\n",
       "Name: path, dtype: object"
      ]
     },
     "execution_count": 67,
     "metadata": {},
     "output_type": "execute_result"
    }
   ],
   "source": [
    "X_test[\"path\"].head()"
   ]
  },
  {
   "cell_type": "code",
   "execution_count": 68,
   "metadata": {},
   "outputs": [],
   "source": [
    "# X_test[\"path\"][574]\n",
    "import librosa\n",
    "\n",
    "waveform, sr = librosa.load(X_test[\"path\"][2555], sr=22050)\n",
    "X = waveform\n"
   ]
  },
  {
   "cell_type": "code",
   "execution_count": 69,
   "metadata": {},
   "outputs": [
    {
     "name": "stderr",
     "output_type": "stream",
     "text": [
      "WARNING:absl:At this time, the v2.11+ optimizer `tf.keras.optimizers.Adam` runs slowly on M1/M2 Macs, please use the legacy Keras optimizer instead, located at `tf.keras.optimizers.legacy.Adam`.\n"
     ]
    },
    {
     "name": "stdout",
     "output_type": "stream",
     "text": [
      "\u001b[34m\n",
      "Load latest model from local registry...\u001b[0m\n",
      "\u001b[34m\n",
      "Load latest model from disk...\u001b[0m\n",
      "✅ Model loaded from local disk\n",
      "1/1 [==============================] - 0s 102ms/step\n"
     ]
    },
    {
     "data": {
      "text/plain": [
       "1"
      ]
     },
     "execution_count": 69,
     "metadata": {},
     "output_type": "execute_result"
    }
   ],
   "source": [
    "import numpy as np\n",
    "predict(X)\n",
    "# predicted_indices = np.argmax(predict(X), axis=1)\n",
    "# predicted_indices"
   ]
  }
 ],
 "metadata": {
  "kernelspec": {
   "display_name": "vocal_patterns",
   "language": "python",
   "name": "python3"
  },
  "language_info": {
   "codemirror_mode": {
    "name": "ipython",
    "version": 3
   },
   "file_extension": ".py",
   "mimetype": "text/x-python",
   "name": "python",
   "nbconvert_exporter": "python",
   "pygments_lexer": "ipython3",
   "version": "3.10.6"
  }
 },
 "nbformat": 4,
 "nbformat_minor": 2
}
