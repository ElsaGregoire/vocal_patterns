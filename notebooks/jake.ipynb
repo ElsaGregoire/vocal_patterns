{
 "cells": [
  {
   "cell_type": "code",
   "execution_count": 86,
   "metadata": {},
   "outputs": [
    {
     "data": {
      "text/html": [
       "<div>\n",
       "<style scoped>\n",
       "    .dataframe tbody tr th:only-of-type {\n",
       "        vertical-align: middle;\n",
       "    }\n",
       "\n",
       "    .dataframe tbody tr th {\n",
       "        vertical-align: top;\n",
       "    }\n",
       "\n",
       "    .dataframe thead th {\n",
       "        text-align: right;\n",
       "    }\n",
       "</style>\n",
       "<table border=\"1\" class=\"dataframe\">\n",
       "  <thead>\n",
       "    <tr style=\"text-align: right;\">\n",
       "      <th></th>\n",
       "      <th>path</th>\n",
       "      <th>exercise</th>\n",
       "      <th>technique</th>\n",
       "      <th>filename</th>\n",
       "    </tr>\n",
       "  </thead>\n",
       "  <tbody>\n",
       "    <tr>\n",
       "      <th>0</th>\n",
       "      <td>/Users/jake/code/jchaselubitz/vocal_patterns/d...</td>\n",
       "      <td>arpeggios</td>\n",
       "      <td>slow_piano</td>\n",
       "      <td>f7_arpeggios_f_slow_piano_u.wav</td>\n",
       "    </tr>\n",
       "    <tr>\n",
       "      <th>1</th>\n",
       "      <td>/Users/jake/code/jchaselubitz/vocal_patterns/d...</td>\n",
       "      <td>scales</td>\n",
       "      <td>fast_forte</td>\n",
       "      <td>m8_scales_f_fast_forte_i.wav</td>\n",
       "    </tr>\n",
       "    <tr>\n",
       "      <th>2</th>\n",
       "      <td>/Users/jake/code/jchaselubitz/vocal_patterns/d...</td>\n",
       "      <td>arpeggios</td>\n",
       "      <td>slow_forte</td>\n",
       "      <td>m9_arpeggios_c_slow_forte_o.wav</td>\n",
       "    </tr>\n",
       "    <tr>\n",
       "      <th>3</th>\n",
       "      <td>/Users/jake/code/jchaselubitz/vocal_patterns/d...</td>\n",
       "      <td>arpeggios</td>\n",
       "      <td>slow_piano</td>\n",
       "      <td>f4_arpeggios_c_slow_piano_a.wav</td>\n",
       "    </tr>\n",
       "    <tr>\n",
       "      <th>4</th>\n",
       "      <td>/Users/jake/code/jchaselubitz/vocal_patterns/d...</td>\n",
       "      <td>arpeggios</td>\n",
       "      <td>fast_piano</td>\n",
       "      <td>m6_arpeggios_c_fast_piano_o.wav</td>\n",
       "    </tr>\n",
       "  </tbody>\n",
       "</table>\n",
       "</div>"
      ],
      "text/plain": [
       "                                                path  ...                         filename\n",
       "0  /Users/jake/code/jchaselubitz/vocal_patterns/d...  ...  f7_arpeggios_f_slow_piano_u.wav\n",
       "1  /Users/jake/code/jchaselubitz/vocal_patterns/d...  ...     m8_scales_f_fast_forte_i.wav\n",
       "2  /Users/jake/code/jchaselubitz/vocal_patterns/d...  ...  m9_arpeggios_c_slow_forte_o.wav\n",
       "3  /Users/jake/code/jchaselubitz/vocal_patterns/d...  ...  f4_arpeggios_c_slow_piano_a.wav\n",
       "4  /Users/jake/code/jchaselubitz/vocal_patterns/d...  ...  m6_arpeggios_c_fast_piano_o.wav\n",
       "\n",
       "[5 rows x 4 columns]"
      ]
     },
     "execution_count": 86,
     "metadata": {},
     "output_type": "execute_result"
    }
   ],
   "source": [
    "import pandas as pd\n",
    "import sys\n",
    "sys.path.append('../')\n",
    "\n",
    "from vocal_patterns.ml_logic.data import get_data\n",
    "\n",
    "\n",
    "\n",
    "data = get_data()\n",
    "data.head()"
   ]
  },
  {
   "cell_type": "code",
   "execution_count": 87,
   "metadata": {},
   "outputs": [],
   "source": [
    "X = data.drop(columns=['exercise', \"technique\", \"filename\"])\n",
    "y = data[['exercise']]\n",
    "\n",
    "X_train, X_test, y_train, y_test = train_test_split(X, y, test_size=0.3)\n"
   ]
  },
  {
   "cell_type": "code",
   "execution_count": 88,
   "metadata": {},
   "outputs": [
    {
     "data": {
      "text/html": [
       "<div>\n",
       "<style scoped>\n",
       "    .dataframe tbody tr th:only-of-type {\n",
       "        vertical-align: middle;\n",
       "    }\n",
       "\n",
       "    .dataframe tbody tr th {\n",
       "        vertical-align: top;\n",
       "    }\n",
       "\n",
       "    .dataframe thead th {\n",
       "        text-align: right;\n",
       "    }\n",
       "</style>\n",
       "<table border=\"1\" class=\"dataframe\">\n",
       "  <thead>\n",
       "    <tr style=\"text-align: right;\">\n",
       "      <th></th>\n",
       "      <th>exercise</th>\n",
       "    </tr>\n",
       "  </thead>\n",
       "  <tbody>\n",
       "    <tr>\n",
       "      <th>1643</th>\n",
       "      <td>arpeggios</td>\n",
       "    </tr>\n",
       "    <tr>\n",
       "      <th>382</th>\n",
       "      <td>arpeggios</td>\n",
       "    </tr>\n",
       "    <tr>\n",
       "      <th>2553</th>\n",
       "      <td>other</td>\n",
       "    </tr>\n",
       "    <tr>\n",
       "      <th>2213</th>\n",
       "      <td>arpeggios</td>\n",
       "    </tr>\n",
       "    <tr>\n",
       "      <th>661</th>\n",
       "      <td>arpeggios</td>\n",
       "    </tr>\n",
       "    <tr>\n",
       "      <th>...</th>\n",
       "      <td>...</td>\n",
       "    </tr>\n",
       "    <tr>\n",
       "      <th>2511</th>\n",
       "      <td>arpeggios</td>\n",
       "    </tr>\n",
       "    <tr>\n",
       "      <th>872</th>\n",
       "      <td>scales</td>\n",
       "    </tr>\n",
       "    <tr>\n",
       "      <th>1386</th>\n",
       "      <td>scales</td>\n",
       "    </tr>\n",
       "    <tr>\n",
       "      <th>1924</th>\n",
       "      <td>arpeggios</td>\n",
       "    </tr>\n",
       "    <tr>\n",
       "      <th>1407</th>\n",
       "      <td>arpeggios</td>\n",
       "    </tr>\n",
       "  </tbody>\n",
       "</table>\n",
       "<p>867 rows × 1 columns</p>\n",
       "</div>"
      ],
      "text/plain": [
       "       exercise\n",
       "1643  arpeggios\n",
       "382   arpeggios\n",
       "2553      other\n",
       "2213  arpeggios\n",
       "661   arpeggios\n",
       "...         ...\n",
       "2511  arpeggios\n",
       "872      scales\n",
       "1386     scales\n",
       "1924  arpeggios\n",
       "1407  arpeggios\n",
       "\n",
       "[867 rows x 1 columns]"
      ]
     },
     "execution_count": 88,
     "metadata": {},
     "output_type": "execute_result"
    }
   ],
   "source": [
    "y_test[:2677]"
   ]
  },
  {
   "cell_type": "code",
   "execution_count": 82,
   "metadata": {},
   "outputs": [],
   "source": [
    "import sys\n",
    "sys.path.append('../')\n",
    "\n",
    "from vocal_patterns.interface.main import predict\n",
    "\n"
   ]
  },
  {
   "cell_type": "code",
   "execution_count": 83,
   "metadata": {},
   "outputs": [
    {
     "data": {
      "text/plain": [
       "2001    /Users/jake/code/jchaselubitz/vocal_patterns/d...\n",
       "2597    /Users/jake/code/jchaselubitz/vocal_patterns/d...\n",
       "969     /Users/jake/code/jchaselubitz/vocal_patterns/d...\n",
       "1929    /Users/jake/code/jchaselubitz/vocal_patterns/d...\n",
       "1280    /Users/jake/code/jchaselubitz/vocal_patterns/d...\n",
       "Name: path, dtype: object"
      ]
     },
     "execution_count": 83,
     "metadata": {},
     "output_type": "execute_result"
    }
   ],
   "source": [
    "X_test[\"path\"].head()"
   ]
  },
  {
   "cell_type": "code",
   "execution_count": 89,
   "metadata": {},
   "outputs": [],
   "source": [
    "# X_test[\"path\"][574]\n",
    "import librosa\n",
    "\n",
    "waveform, sr = librosa.load(X_test[\"path\"][382], sr=22050)\n",
    "X = waveform\n"
   ]
  },
  {
   "cell_type": "code",
   "execution_count": 69,
   "metadata": {},
   "outputs": [
    {
     "name": "stderr",
     "output_type": "stream",
     "text": [
      "WARNING:absl:At this time, the v2.11+ optimizer `tf.keras.optimizers.Adam` runs slowly on M1/M2 Macs, please use the legacy Keras optimizer instead, located at `tf.keras.optimizers.legacy.Adam`.\n"
     ]
    },
    {
     "name": "stdout",
     "output_type": "stream",
     "text": [
      "\u001b[34m\n",
      "Load latest model from local registry...\u001b[0m\n",
      "\u001b[34m\n",
      "Load latest model from disk...\u001b[0m\n",
      "✅ Model loaded from local disk\n",
      "1/1 [==============================] - 0s 102ms/step\n"
     ]
    },
    {
     "data": {
      "text/plain": [
       "1"
      ]
     },
     "execution_count": 69,
     "metadata": {},
     "output_type": "execute_result"
    }
   ],
   "source": [
    "import numpy as np\n",
    "predict(X)\n",
    "# predicted_indices = np.argmax(predict(X), axis=1)\n",
    "# predicted_indices"
   ]
  }
 ],
 "metadata": {
  "kernelspec": {
   "display_name": "vocal_patterns",
   "language": "python",
   "name": "python3"
  },
  "language_info": {
   "codemirror_mode": {
    "name": "ipython",
    "version": 3
   },
   "file_extension": ".py",
   "mimetype": "text/x-python",
   "name": "python",
   "nbconvert_exporter": "python",
   "pygments_lexer": "ipython3",
   "version": "3.10.6"
  }
 },
 "nbformat": 4,
 "nbformat_minor": 2
}
