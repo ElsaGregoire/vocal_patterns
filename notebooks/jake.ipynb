{
 "cells": [
  {
   "cell_type": "code",
   "execution_count": 5,
   "metadata": {},
   "outputs": [
    {
     "data": {
      "text/html": [
       "<div>\n",
       "<style scoped>\n",
       "    .dataframe tbody tr th:only-of-type {\n",
       "        vertical-align: middle;\n",
       "    }\n",
       "\n",
       "    .dataframe tbody tr th {\n",
       "        vertical-align: top;\n",
       "    }\n",
       "\n",
       "    .dataframe thead th {\n",
       "        text-align: right;\n",
       "    }\n",
       "</style>\n",
       "<table border=\"1\" class=\"dataframe\">\n",
       "  <thead>\n",
       "    <tr style=\"text-align: right;\">\n",
       "      <th></th>\n",
       "      <th>path</th>\n",
       "      <th>exercise</th>\n",
       "      <th>technique</th>\n",
       "      <th>filename</th>\n",
       "    </tr>\n",
       "  </thead>\n",
       "  <tbody>\n",
       "    <tr>\n",
       "      <th>0</th>\n",
       "      <td>/Users/jake/code/jchaselubitz/vocal_patterns/v...</td>\n",
       "      <td>Other</td>\n",
       "      <td>vibrato</td>\n",
       "      <td>m6_row_vibrato.wav</td>\n",
       "    </tr>\n",
       "    <tr>\n",
       "      <th>1</th>\n",
       "      <td>/Users/jake/code/jchaselubitz/vocal_patterns/v...</td>\n",
       "      <td>Other</td>\n",
       "      <td>vibrato</td>\n",
       "      <td>m6_caro_vibrato.wav</td>\n",
       "    </tr>\n",
       "    <tr>\n",
       "      <th>2</th>\n",
       "      <td>/Users/jake/code/jchaselubitz/vocal_patterns/v...</td>\n",
       "      <td>Other</td>\n",
       "      <td>vibrato</td>\n",
       "      <td>m6_dona_vibrato.wav</td>\n",
       "    </tr>\n",
       "    <tr>\n",
       "      <th>3</th>\n",
       "      <td>/Users/jake/code/jchaselubitz/vocal_patterns/v...</td>\n",
       "      <td>Other</td>\n",
       "      <td>straight</td>\n",
       "      <td>m6_caro_straight.wav</td>\n",
       "    </tr>\n",
       "    <tr>\n",
       "      <th>4</th>\n",
       "      <td>/Users/jake/code/jchaselubitz/vocal_patterns/v...</td>\n",
       "      <td>Other</td>\n",
       "      <td>straight</td>\n",
       "      <td>m6_row_straight.wav</td>\n",
       "    </tr>\n",
       "  </tbody>\n",
       "</table>\n",
       "</div>"
      ],
      "text/plain": [
       "                                                path  ...              filename\n",
       "0  /Users/jake/code/jchaselubitz/vocal_patterns/v...  ...    m6_row_vibrato.wav\n",
       "1  /Users/jake/code/jchaselubitz/vocal_patterns/v...  ...   m6_caro_vibrato.wav\n",
       "2  /Users/jake/code/jchaselubitz/vocal_patterns/v...  ...   m6_dona_vibrato.wav\n",
       "3  /Users/jake/code/jchaselubitz/vocal_patterns/v...  ...  m6_caro_straight.wav\n",
       "4  /Users/jake/code/jchaselubitz/vocal_patterns/v...  ...   m6_row_straight.wav\n",
       "\n",
       "[5 rows x 4 columns]"
      ]
     },
     "execution_count": 5,
     "metadata": {},
     "output_type": "execute_result"
    }
   ],
   "source": [
    "import pandas as pd\n",
    "from sklearn.model_selection import train_test_split\n",
    "\n",
    "download_path = \"../vocal_patterns/data/dataset_tags.csv\"\n",
    "data = pd.read_csv(download_path)\n",
    "data.head()"
   ]
  },
  {
   "cell_type": "code",
   "execution_count": 9,
   "metadata": {},
   "outputs": [],
   "source": [
    "X = data.drop(columns=['exercise', \"technique\", \"filename\"])\n",
    "y = data[['exercise']]\n",
    "\n",
    "X_train, X_test, y_train, y_test = train_test_split(X, y, test_size=0.3)\n"
   ]
  },
  {
   "cell_type": "code",
   "execution_count": 30,
   "metadata": {},
   "outputs": [
    {
     "data": {
      "text/html": [
       "<div>\n",
       "<style scoped>\n",
       "    .dataframe tbody tr th:only-of-type {\n",
       "        vertical-align: middle;\n",
       "    }\n",
       "\n",
       "    .dataframe tbody tr th {\n",
       "        vertical-align: top;\n",
       "    }\n",
       "\n",
       "    .dataframe thead th {\n",
       "        text-align: right;\n",
       "    }\n",
       "</style>\n",
       "<table border=\"1\" class=\"dataframe\">\n",
       "  <thead>\n",
       "    <tr style=\"text-align: right;\">\n",
       "      <th></th>\n",
       "      <th>exercise</th>\n",
       "    </tr>\n",
       "  </thead>\n",
       "  <tbody>\n",
       "    <tr>\n",
       "      <th>574</th>\n",
       "      <td>Other</td>\n",
       "    </tr>\n",
       "    <tr>\n",
       "      <th>1165</th>\n",
       "      <td>scales</td>\n",
       "    </tr>\n",
       "    <tr>\n",
       "      <th>1455</th>\n",
       "      <td>scales</td>\n",
       "    </tr>\n",
       "    <tr>\n",
       "      <th>1812</th>\n",
       "      <td>scales</td>\n",
       "    </tr>\n",
       "    <tr>\n",
       "      <th>1315</th>\n",
       "      <td>scales</td>\n",
       "    </tr>\n",
       "    <tr>\n",
       "      <th>...</th>\n",
       "      <td>...</td>\n",
       "    </tr>\n",
       "    <tr>\n",
       "      <th>2105</th>\n",
       "      <td>scales</td>\n",
       "    </tr>\n",
       "    <tr>\n",
       "      <th>2555</th>\n",
       "      <td>arpeggios</td>\n",
       "    </tr>\n",
       "    <tr>\n",
       "      <th>826</th>\n",
       "      <td>Other</td>\n",
       "    </tr>\n",
       "    <tr>\n",
       "      <th>2845</th>\n",
       "      <td>arpeggios</td>\n",
       "    </tr>\n",
       "    <tr>\n",
       "      <th>854</th>\n",
       "      <td>scales</td>\n",
       "    </tr>\n",
       "  </tbody>\n",
       "</table>\n",
       "<p>1084 rows × 1 columns</p>\n",
       "</div>"
      ],
      "text/plain": [
       "       exercise\n",
       "574       Other\n",
       "1165     scales\n",
       "1455     scales\n",
       "1812     scales\n",
       "1315     scales\n",
       "...         ...\n",
       "2105     scales\n",
       "2555  arpeggios\n",
       "826       Other\n",
       "2845  arpeggios\n",
       "854      scales\n",
       "\n",
       "[1084 rows x 1 columns]"
      ]
     },
     "execution_count": 30,
     "metadata": {},
     "output_type": "execute_result"
    }
   ],
   "source": [
    "y_test.iloc[1165:]"
   ]
  },
  {
   "cell_type": "code",
   "execution_count": 191,
   "metadata": {},
   "outputs": [],
   "source": [
    "import sys\n",
    "sys.path.append('../')\n",
    "\n",
    "from vocal_patterns.ml_logic.preprocessor import preprocess_audio\n",
    "\n",
    "X_train_processed = preprocess_audio(X_train)\n"
   ]
  },
  {
   "cell_type": "code",
   "execution_count": 42,
   "metadata": {},
   "outputs": [],
   "source": [
    "import sys\n",
    "sys.path.append('../')\n",
    "\n",
    "from vocal_patterns.interface.main import predict\n",
    "\n"
   ]
  },
  {
   "cell_type": "code",
   "execution_count": 43,
   "metadata": {},
   "outputs": [
    {
     "data": {
      "text/plain": [
       "574     /Users/jake/code/jchaselubitz/vocal_patterns/v...\n",
       "1165    /Users/jake/code/jchaselubitz/vocal_patterns/v...\n",
       "1455    /Users/jake/code/jchaselubitz/vocal_patterns/v...\n",
       "1812    /Users/jake/code/jchaselubitz/vocal_patterns/v...\n",
       "1315    /Users/jake/code/jchaselubitz/vocal_patterns/v...\n",
       "Name: path, dtype: object"
      ]
     },
     "execution_count": 43,
     "metadata": {},
     "output_type": "execute_result"
    }
   ],
   "source": [
    "X_test[\"path\"].head()"
   ]
  },
  {
   "cell_type": "code",
   "execution_count": 44,
   "metadata": {},
   "outputs": [],
   "source": [
    "# X_test[\"path\"][574]\n",
    "import librosa\n",
    "\n",
    "waveform, sr = librosa.load(X_test[\"path\"][2555], sr=22050)\n",
    "X = waveform\n"
   ]
  },
  {
   "cell_type": "code",
   "execution_count": 46,
   "metadata": {},
   "outputs": [
    {
     "name": "stderr",
     "output_type": "stream",
     "text": [
      "WARNING:absl:At this time, the v2.11+ optimizer `tf.keras.optimizers.Adam` runs slowly on M1/M2 Macs, please use the legacy Keras optimizer instead, located at `tf.keras.optimizers.legacy.Adam`.\n"
     ]
    },
    {
     "name": "stdout",
     "output_type": "stream",
     "text": [
      "\u001b[34m\n",
      "Load latest model from local registry...\u001b[0m\n",
      "\u001b[34m\n",
      "Load latest model from disk...\u001b[0m\n",
      "✅ Model loaded from local disk\n",
      "1/1 [==============================] - 0s 75ms/step\n"
     ]
    },
    {
     "data": {
      "text/plain": [
       "1"
      ]
     },
     "execution_count": 46,
     "metadata": {},
     "output_type": "execute_result"
    }
   ],
   "source": [
    "import numpy as np\n",
    "predict(X)\n",
    "# predicted_indices = np.argmax(predict(X), axis=1)\n",
    "# predicted_indices"
   ]
  }
 ],
 "metadata": {
  "kernelspec": {
   "display_name": "vocal_patterns",
   "language": "python",
   "name": "python3"
  },
  "language_info": {
   "codemirror_mode": {
    "name": "ipython",
    "version": 3
   },
   "file_extension": ".py",
   "mimetype": "text/x-python",
   "name": "python",
   "nbconvert_exporter": "python",
   "pygments_lexer": "ipython3",
   "version": "3.10.6"
  }
 },
 "nbformat": 4,
 "nbformat_minor": 2
}
