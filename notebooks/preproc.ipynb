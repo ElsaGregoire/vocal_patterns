{
 "cells": [
  {
   "cell_type": "code",
   "execution_count": 1,
   "metadata": {},
   "outputs": [
    {
     "name": "stdout",
     "output_type": "stream",
     "text": [
      "Requirement already satisfied: librosa in /Users/elsagregoire/.pyenv/versions/3.10.6/envs/vocal_patterns/lib/python3.10/site-packages (0.10.1)\n",
      "Requirement already satisfied: audioread>=2.1.9 in /Users/elsagregoire/.pyenv/versions/3.10.6/envs/vocal_patterns/lib/python3.10/site-packages (from librosa) (3.0.1)\n",
      "Requirement already satisfied: numpy!=1.22.0,!=1.22.1,!=1.22.2,>=1.20.3 in /Users/elsagregoire/.pyenv/versions/3.10.6/envs/vocal_patterns/lib/python3.10/site-packages (from librosa) (1.26.2)\n",
      "Requirement already satisfied: scipy>=1.2.0 in /Users/elsagregoire/.pyenv/versions/3.10.6/envs/vocal_patterns/lib/python3.10/site-packages (from librosa) (1.11.4)\n",
      "Requirement already satisfied: scikit-learn>=0.20.0 in /Users/elsagregoire/.pyenv/versions/3.10.6/envs/vocal_patterns/lib/python3.10/site-packages (from librosa) (1.3.2)\n",
      "Requirement already satisfied: joblib>=0.14 in /Users/elsagregoire/.pyenv/versions/3.10.6/envs/vocal_patterns/lib/python3.10/site-packages (from librosa) (1.3.2)\n",
      "Requirement already satisfied: decorator>=4.3.0 in /Users/elsagregoire/.pyenv/versions/3.10.6/envs/vocal_patterns/lib/python3.10/site-packages (from librosa) (5.1.1)\n",
      "Requirement already satisfied: numba>=0.51.0 in /Users/elsagregoire/.pyenv/versions/3.10.6/envs/vocal_patterns/lib/python3.10/site-packages (from librosa) (0.58.1)\n",
      "Requirement already satisfied: soundfile>=0.12.1 in /Users/elsagregoire/.pyenv/versions/3.10.6/envs/vocal_patterns/lib/python3.10/site-packages (from librosa) (0.12.1)\n",
      "Requirement already satisfied: pooch>=1.0 in /Users/elsagregoire/.pyenv/versions/3.10.6/envs/vocal_patterns/lib/python3.10/site-packages (from librosa) (1.8.0)\n",
      "Requirement already satisfied: soxr>=0.3.2 in /Users/elsagregoire/.pyenv/versions/3.10.6/envs/vocal_patterns/lib/python3.10/site-packages (from librosa) (0.3.7)\n",
      "Requirement already satisfied: typing-extensions>=4.1.1 in /Users/elsagregoire/.pyenv/versions/3.10.6/envs/vocal_patterns/lib/python3.10/site-packages (from librosa) (4.8.0)\n",
      "Requirement already satisfied: lazy-loader>=0.1 in /Users/elsagregoire/.pyenv/versions/3.10.6/envs/vocal_patterns/lib/python3.10/site-packages (from librosa) (0.3)\n",
      "Requirement already satisfied: msgpack>=1.0 in /Users/elsagregoire/.pyenv/versions/3.10.6/envs/vocal_patterns/lib/python3.10/site-packages (from librosa) (1.0.7)\n",
      "Requirement already satisfied: llvmlite<0.42,>=0.41.0dev0 in /Users/elsagregoire/.pyenv/versions/3.10.6/envs/vocal_patterns/lib/python3.10/site-packages (from numba>=0.51.0->librosa) (0.41.1)\n",
      "Requirement already satisfied: platformdirs>=2.5.0 in /Users/elsagregoire/.pyenv/versions/3.10.6/envs/vocal_patterns/lib/python3.10/site-packages (from pooch>=1.0->librosa) (4.0.0)\n",
      "Requirement already satisfied: packaging>=20.0 in /Users/elsagregoire/.pyenv/versions/3.10.6/envs/vocal_patterns/lib/python3.10/site-packages (from pooch>=1.0->librosa) (23.2)\n",
      "Requirement already satisfied: requests>=2.19.0 in /Users/elsagregoire/.pyenv/versions/3.10.6/envs/vocal_patterns/lib/python3.10/site-packages (from pooch>=1.0->librosa) (2.31.0)\n",
      "Requirement already satisfied: threadpoolctl>=2.0.0 in /Users/elsagregoire/.pyenv/versions/3.10.6/envs/vocal_patterns/lib/python3.10/site-packages (from scikit-learn>=0.20.0->librosa) (3.2.0)\n",
      "Requirement already satisfied: cffi>=1.0 in /Users/elsagregoire/.pyenv/versions/3.10.6/envs/vocal_patterns/lib/python3.10/site-packages (from soundfile>=0.12.1->librosa) (1.16.0)\n",
      "Requirement already satisfied: pycparser in /Users/elsagregoire/.pyenv/versions/3.10.6/envs/vocal_patterns/lib/python3.10/site-packages (from cffi>=1.0->soundfile>=0.12.1->librosa) (2.21)\n",
      "Requirement already satisfied: charset-normalizer<4,>=2 in /Users/elsagregoire/.pyenv/versions/3.10.6/envs/vocal_patterns/lib/python3.10/site-packages (from requests>=2.19.0->pooch>=1.0->librosa) (3.3.2)\n",
      "Requirement already satisfied: idna<4,>=2.5 in /Users/elsagregoire/.pyenv/versions/3.10.6/envs/vocal_patterns/lib/python3.10/site-packages (from requests>=2.19.0->pooch>=1.0->librosa) (3.6)\n",
      "Requirement already satisfied: urllib3<3,>=1.21.1 in /Users/elsagregoire/.pyenv/versions/3.10.6/envs/vocal_patterns/lib/python3.10/site-packages (from requests>=2.19.0->pooch>=1.0->librosa) (2.0.7)\n",
      "Requirement already satisfied: certifi>=2017.4.17 in /Users/elsagregoire/.pyenv/versions/3.10.6/envs/vocal_patterns/lib/python3.10/site-packages (from requests>=2.19.0->pooch>=1.0->librosa) (2023.11.17)\n"
     ]
    }
   ],
   "source": [
    "!pip install librosa\n"
   ]
  },
  {
   "cell_type": "code",
   "execution_count": 2,
   "metadata": {},
   "outputs": [],
   "source": [
    "import librosa\n",
    "import librosa.display\n",
    "import matplotlib.pyplot as plt\n",
    "import numpy as np\n"
   ]
  },
  {
   "cell_type": "code",
   "execution_count": 6,
   "metadata": {},
   "outputs": [],
   "source": [
    "audio_path = '/Users/elsagregoire/Desktop/Vocal Set Le Wagon/arpeggios/arpeggios f1/slow_forte/f1_arpeggios_c_slow_forte_a.wav'\n"
   ]
  },
  {
   "cell_type": "markdown",
   "metadata": {},
   "source": [
    "### Load the audio file"
   ]
  },
  {
   "cell_type": "code",
   "execution_count": 7,
   "metadata": {},
   "outputs": [],
   "source": [
    "y, sr = librosa.load(audio_path)\n"
   ]
  },
  {
   "cell_type": "code",
   "execution_count": 8,
   "metadata": {},
   "outputs": [
    {
     "data": {
      "text/plain": [
       "array([1.3526442e-04, 1.4985875e-04, 9.8155477e-05, ..., 4.6974109e-04,\n",
       "       4.5185169e-04, 4.9337966e-04], dtype=float32)"
      ]
     },
     "execution_count": 8,
     "metadata": {},
     "output_type": "execute_result"
    }
   ],
   "source": [
    "y #y is the data as numpy array\n",
    "# which gives us the amplitude of the wave form at a certain moment\n"
   ]
  },
  {
   "cell_type": "code",
   "execution_count": 9,
   "metadata": {},
   "outputs": [
    {
     "data": {
      "text/plain": [
       "(165853,)"
      ]
     },
     "execution_count": 9,
     "metadata": {},
     "output_type": "execute_result"
    }
   ],
   "source": [
    "y.shape  # 165853 / 22050 = 7,52 seconds long\n"
   ]
  },
  {
   "cell_type": "code",
   "execution_count": 13,
   "metadata": {},
   "outputs": [
    {
     "data": {
      "text/plain": [
       "22050"
      ]
     },
     "execution_count": 13,
     "metadata": {},
     "output_type": "execute_result"
    }
   ],
   "source": [
    "sr # sr is the smpling rate\n"
   ]
  },
  {
   "cell_type": "markdown",
   "metadata": {},
   "source": [
    "### Waveplot"
   ]
  },
  {
   "cell_type": "code",
   "execution_count": 14,
   "metadata": {},
   "outputs": [
    {
     "ename": "AttributeError",
     "evalue": "'_process_plot_var_args' object has no attribute 'prop_cycler'",
     "output_type": "error",
     "traceback": [
      "\u001b[0;31m---------------------------------------------------------------------------\u001b[0m",
      "\u001b[0;31mAttributeError\u001b[0m                            Traceback (most recent call last)",
      "\u001b[1;32m/Users/elsagregoire/code/ElsaGregoire/vocal_patterns/notebooks/preproc.ipynb Cell 10\u001b[0m line \u001b[0;36m1\n\u001b[0;32m----> <a href='vscode-notebook-cell:/Users/elsagregoire/code/ElsaGregoire/vocal_patterns/notebooks/preproc.ipynb#X14sZmlsZQ%3D%3D?line=0'>1</a>\u001b[0m waveplot \u001b[39m=\u001b[39m librosa\u001b[39m.\u001b[39;49mdisplay\u001b[39m.\u001b[39;49mwaveshow(y, sr\u001b[39m=\u001b[39;49msr)\n",
      "File \u001b[0;32m~/.pyenv/versions/3.10.6/envs/vocal_patterns/lib/python3.10/site-packages/librosa/display.py:2042\u001b[0m, in \u001b[0;36mwaveshow\u001b[0;34m(y, sr, max_points, axis, offset, marker, where, label, transpose, ax, x_axis, **kwargs)\u001b[0m\n\u001b[1;32m   2032\u001b[0m axis \u001b[39m=\u001b[39m rename_kw(\n\u001b[1;32m   2033\u001b[0m     old_name\u001b[39m=\u001b[39m\u001b[39m\"\u001b[39m\u001b[39mx_axis\u001b[39m\u001b[39m\"\u001b[39m,\n\u001b[1;32m   2034\u001b[0m     old_value\u001b[39m=\u001b[39mx_axis,\n\u001b[0;32m   (...)\u001b[0m\n\u001b[1;32m   2038\u001b[0m     version_removed\u001b[39m=\u001b[39m\u001b[39m\"\u001b[39m\u001b[39m1.0\u001b[39m\u001b[39m\"\u001b[39m,\n\u001b[1;32m   2039\u001b[0m )\n\u001b[1;32m   2041\u001b[0m \u001b[39mif\u001b[39;00m \u001b[39m\"\u001b[39m\u001b[39mcolor\u001b[39m\u001b[39m\"\u001b[39m \u001b[39mnot\u001b[39;00m \u001b[39min\u001b[39;00m kwargs:\n\u001b[0;32m-> 2042\u001b[0m     kwargs\u001b[39m.\u001b[39msetdefault(\u001b[39m\"\u001b[39m\u001b[39mcolor\u001b[39m\u001b[39m\"\u001b[39m, \u001b[39mnext\u001b[39m(axes\u001b[39m.\u001b[39;49m_get_lines\u001b[39m.\u001b[39;49mprop_cycler)[\u001b[39m\"\u001b[39m\u001b[39mcolor\u001b[39m\u001b[39m\"\u001b[39m])\n\u001b[1;32m   2044\u001b[0m \u001b[39m# Reduce by envelope calculation\u001b[39;00m\n\u001b[1;32m   2045\u001b[0m \u001b[39m# this choice of hop ensures that the envelope has at most max_points values\u001b[39;00m\n\u001b[1;32m   2046\u001b[0m hop_length \u001b[39m=\u001b[39m \u001b[39mmax\u001b[39m(\u001b[39m1\u001b[39m, y\u001b[39m.\u001b[39mshape[\u001b[39m-\u001b[39m\u001b[39m1\u001b[39m] \u001b[39m/\u001b[39m\u001b[39m/\u001b[39m max_points)\n",
      "\u001b[0;31mAttributeError\u001b[0m: '_process_plot_var_args' object has no attribute 'prop_cycler'"
     ]
    },
    {
     "data": {
      "image/png": "[encoded data removed]",
      "text/plain": [
       "<Figure size 640x480 with 1 Axes>"
      ]
     },
     "metadata": {},
     "output_type": "display_data"
    }
   ],
   "source": [
    "waveplot = librosa.display.waveshow(y, sr=sr)\n"
   ]
  },
  {
   "cell_type": "markdown",
   "metadata": {},
   "source": [
    "### truncating the wav file "
   ]
  },
  {
   "cell_type": "code",
   "execution_count": 5,
   "metadata": {},
   "outputs": [
    {
     "ename": "NameError",
     "evalue": "name 'sr' is not defined",
     "output_type": "error",
     "traceback": [
      "\u001b[0;31m---------------------------------------------------------------------------\u001b[0m",
      "\u001b[0;31mNameError\u001b[0m                                 Traceback (most recent call last)",
      "\u001b[1;32m/Users/elsagregoire/code/ElsaGregoire/vocal_patterns/notebooks/preproc.ipynb Cell 12\u001b[0m line \u001b[0;36m1\n\u001b[0;32m----> <a href='vscode-notebook-cell:/Users/elsagregoire/code/ElsaGregoire/vocal_patterns/notebooks/preproc.ipynb#X16sZmlsZQ%3D%3D?line=0'>1</a>\u001b[0m start_sample \u001b[39m=\u001b[39m \u001b[39mint\u001b[39m(\u001b[39m0.0\u001b[39m \u001b[39m*\u001b[39m sr)\n\u001b[1;32m      <a href='vscode-notebook-cell:/Users/elsagregoire/code/ElsaGregoire/vocal_patterns/notebooks/preproc.ipynb#X16sZmlsZQ%3D%3D?line=1'>2</a>\u001b[0m end_sample \u001b[39m=\u001b[39m \u001b[39mint\u001b[39m(\u001b[39m6.0\u001b[39m \u001b[39m*\u001b[39m sr)\n",
      "\u001b[0;31mNameError\u001b[0m: name 'sr' is not defined"
     ]
    }
   ],
   "source": [
    "start_sample = int(0.0 * sr)\n",
    "end_sample = int(6.0 * sr)\n"
   ]
  },
  {
   "cell_type": "code",
   "execution_count": null,
   "metadata": {},
   "outputs": [],
   "source": [
    "truncated_signal = y[start_sample:end_sample]\n"
   ]
  },
  {
   "cell_type": "code",
   "execution_count": null,
   "metadata": {},
   "outputs": [],
   "source": [
    "waveplot_6sec = librosa.display.waveshow(truncated_signal, sr=sr)\n"
   ]
  },
  {
   "cell_type": "markdown",
   "metadata": {},
   "source": [
    "### Padding if too long (here tryout with 10 sec)"
   ]
  },
  {
   "cell_type": "code",
   "execution_count": null,
   "metadata": {},
   "outputs": [],
   "source": [
    "current_length = len(y)\n",
    "current_length\n"
   ]
  },
  {
   "cell_type": "code",
   "execution_count": null,
   "metadata": {},
   "outputs": [],
   "source": [
    "padding_both_sides = int((10.0 * sr - current_length) / 2)\n",
    "padding_both_sides\n"
   ]
  },
  {
   "cell_type": "code",
   "execution_count": null,
   "metadata": {},
   "outputs": [],
   "source": [
    "padded_signal = librosa.util.pad_center(y, size= (current_length + padding_both_sides * 2))\n",
    "padded_signal\n"
   ]
  },
  {
   "cell_type": "code",
   "execution_count": null,
   "metadata": {},
   "outputs": [],
   "source": [
    "len(padded_signal)\n"
   ]
  },
  {
   "cell_type": "code",
   "execution_count": null,
   "metadata": {},
   "outputs": [],
   "source": [
    "waveplot_10sec = librosa.display.waveshow(padded_signal, sr=sr)\n"
   ]
  },
  {
   "cell_type": "markdown",
   "metadata": {},
   "source": [
    "### mel spectrogram"
   ]
  },
  {
   "cell_type": "code",
   "execution_count": null,
   "metadata": {},
   "outputs": [],
   "source": []
  }
 ],
 "metadata": {
  "kernelspec": {
   "display_name": "vocal_patterns",
   "language": "python",
   "name": "python3"
  },
  "language_info": {
   "codemirror_mode": {
    "name": "ipython",
    "version": 3
   },
   "file_extension": ".py",
   "mimetype": "text/x-python",
   "name": "python",
   "nbconvert_exporter": "python",
   "pygments_lexer": "ipython3",
   "version": "3.10.6"
  }
 },
 "nbformat": 4,
 "nbformat_minor": 2
}
